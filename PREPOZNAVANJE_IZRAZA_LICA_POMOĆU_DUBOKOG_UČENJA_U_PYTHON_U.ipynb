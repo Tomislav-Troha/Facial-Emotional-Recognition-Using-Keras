{
  "nbformat": 4,
  "nbformat_minor": 0,
  "metadata": {
    "colab": {
      "name": "PREPOZNAVANJE IZRAZA LICA POMOĆU DUBOKOG UČENJA U PYTHON-U.ipynb",
      "provenance": [],
      "collapsed_sections": [],
      "authorship_tag": "ABX9TyMMbJH/X+8qAs8mxJ6KOVkg",
      "include_colab_link": true
    },
    "kernelspec": {
      "name": "python3",
      "display_name": "Python 3"
    },
    "language_info": {
      "name": "python"
    },
    "accelerator": "GPU"
  },
  "cells": [
    {
      "cell_type": "markdown",
      "metadata": {
        "id": "view-in-github",
        "colab_type": "text"
      },
      "source": [
        "<a href=\"https://colab.research.google.com/github/Tomislav-Troha/Facial-Emotional-Recognition-Using-Keras/blob/main/PREPOZNAVANJE_IZRAZA_LICA_POMO%C4%86U_DUBOKOG_U%C4%8CENJA_U_PYTHON_U.ipynb\" target=\"_parent\"><img src=\"https://colab.research.google.com/assets/colab-badge.svg\" alt=\"Open In Colab\"/></a>"
      ]
    },
    {
      "cell_type": "code",
      "execution_count": null,
      "metadata": {
        "id": "p029yas4YOlM"
      },
      "outputs": [],
      "source": [
        "import os\n",
        "import zipfile\n",
        "\n",
        "#local_zip = 'C:/Users/tomis/Desktop/NMIDU/Dataset_face_recognition.zip'\n",
        "local_zip = '/data/Dataset_face_recognition.zip'\n",
        "\n",
        "zip_ref = zipfile.ZipFile(local_zip, 'r')\n",
        "\n",
        "#zip_ref.extractall('C:/Users/tomis/Desktop/NMIDU/Dataset_face_recognition')\n",
        "zip_ref.extractall('/data/Dataset_face_recognition')\n",
        "zip_ref.close()"
      ]
    },
    {
      "cell_type": "markdown",
      "source": [
        "Dataset preuzet sa stranice: https://www.kaggle.com/datasets/aadityasinghal/facial-expression-dataset"
      ],
      "metadata": {
        "id": "uAnZYINgy0FJ"
      }
    },
    {
      "cell_type": "code",
      "source": [
        "import os\n",
        "import zipfile\n",
        "\n",
        "#base_dir = 'C:/Users/tomis/Desktop/NMIDU/Dataset_face_recognition'\n",
        "base_dir = '/data/Dataset_face_recognition'\n",
        "\n",
        "test_dir = os.path.join(base_dir, 'test')\n",
        "train_dir = os.path.join(base_dir, 'train')\n",
        "\n",
        "test_sub_dir = os.path.join(test_dir, 'test')\n",
        "train_sub_dir = os.path.join(train_dir, 'train')\n",
        "\n",
        "# Direktori trening angry, disgust, fear, happy, neutral, sad, surprise slike\n",
        "train_angry_dir = os.path.join(train_sub_dir, 'angry')\n",
        "train_disgust_dir = os.path.join(train_sub_dir, 'disgust')\n",
        "train_fear_dir = os.path.join(train_sub_dir, 'fear')\n",
        "train_happy_dir = os.path.join(train_sub_dir, 'happy')\n",
        "train_neutral_dir = os.path.join(train_sub_dir, 'neutral')\n",
        "train_sad_dir = os.path.join(train_sub_dir, 'sad')\n",
        "train_surprise_dir = os.path.join(train_sub_dir, 'surprise')\n",
        "\n",
        "# Direktori test angry, disgust, fear, happy, neutral, sad, surprise slike\n",
        "test_angry_dir = os.path.join(test_sub_dir, 'angry')\n",
        "test_disgust_dir = os.path.join(test_sub_dir, 'disgust')\n",
        "test_fear_dir = os.path.join(test_sub_dir, 'fear')\n",
        "test_happy_dir = os.path.join(test_sub_dir, 'happy')\n",
        "test_neutral_dir = os.path.join(test_sub_dir, 'neutral')\n",
        "test_sad_dir = os.path.join(test_sub_dir, 'sad')\n",
        "test_surprise_dir = os.path.join(test_sub_dir, 'surprise')"
      ],
      "metadata": {
        "id": "64CYPOXdlcno"
      },
      "execution_count": null,
      "outputs": []
    },
    {
      "cell_type": "code",
      "source": [
        "train_angry_fnames = os.listdir(train_angry_dir)\n",
        "train_disgust_fnames = os.listdir(train_disgust_dir)\n",
        "train_fear_fnames = os.listdir(train_fear_dir)\n",
        "train_happy_fnames = os.listdir(train_happy_dir)\n",
        "train_neutral_fnames = os.listdir(train_neutral_dir)\n",
        "train_sad_fnames = os.listdir(train_sad_dir)\n",
        "train_surprise_fnames = os.listdir(train_surprise_dir)\n",
        "\n",
        "test_angry_fnames = os.listdir(test_angry_dir)\n",
        "test_disgust_fnames = os.listdir(test_disgust_dir)\n",
        "test_fear_fnames = os.listdir(test_fear_dir)\n",
        "test_happy_fnames = os.listdir(test_happy_dir)\n",
        "test_neutral_fnames = os.listdir(test_neutral_dir)\n",
        "test_sad_fnames = os.listdir(test_sad_dir)\n",
        "test_surprise_fnames = os.listdir(test_surprise_dir)"
      ],
      "metadata": {
        "id": "kSk0WBObmY2i"
      },
      "execution_count": null,
      "outputs": []
    },
    {
      "cell_type": "code",
      "source": [
        "print('total training angry images :', len(os.listdir(train_angry_dir)))\n",
        "print('total training disgust images :', len(os.listdir(train_disgust_dir)))\n",
        "print('total training fear images :', len(os.listdir(train_fear_dir)))\n",
        "print('total training happy images :', len(os.listdir(train_happy_dir)))\n",
        "print('total training neutral images :', len(os.listdir(train_neutral_dir)))\n",
        "print('total training sad images :', len(os.listdir(train_sad_dir)))\n",
        "print('total training surprise images :', len(os.listdir(train_surprise_dir)))  \n",
        "\n",
        "print('total test angry images :', len(os.listdir(test_angry_dir)))\n",
        "print('total test disgust images :', len(os.listdir(test_disgust_dir)))\n",
        "print('total test fear images :', len(os.listdir(test_fear_dir)))\n",
        "print('total test happy images :', len(os.listdir(test_happy_dir)))\n",
        "print('total test neutral images :', len(os.listdir(test_neutral_dir)))\n",
        "print('total test sad images :', len(os.listdir(test_sad_dir)))\n",
        "print('total test surprise images :', len(os.listdir(test_surprise_dir)))"
      ],
      "metadata": {
        "colab": {
          "base_uri": "https://localhost:8080/"
        },
        "id": "H3aXdbAepmjL",
        "outputId": "59610627-c731-4cd6-fee0-7247727ad7fa"
      },
      "execution_count": null,
      "outputs": [
        {
          "output_type": "stream",
          "name": "stdout",
          "text": [
            "total training angry images : 3995\n",
            "total training disgust images : 436\n",
            "total training fear images : 4097\n",
            "total training happy images : 7215\n",
            "total training neutral images : 4965\n",
            "total training sad images : 4830\n",
            "total training surprise images : 3171\n",
            "total training images:  4431\n",
            "total test angry images : 958\n",
            "total test disgust images : 111\n",
            "total test fear images : 1024\n",
            "total test happy images : 1774\n",
            "total test neutral images : 1233\n",
            "total test sad images : 1247\n",
            "total test surprise images : 831\n"
          ]
        }
      ]
    },
    {
      "cell_type": "code",
      "source": [
        "%matplotlib inline\n",
        "\n",
        "import matplotlib.image as mpimg\n",
        "import matplotlib.pyplot as plt\n",
        "\n",
        "\n",
        "nrows = 8\n",
        "ncols = 8\n",
        "\n",
        "pic_index = 0 "
      ],
      "metadata": {
        "id": "qDSdnbyRqJKR"
      },
      "execution_count": null,
      "outputs": []
    },
    {
      "cell_type": "code",
      "source": [
        "fig = plt.gcf()\n",
        "fig.set_size_inches(ncols*4, nrows*4)\n",
        "\n",
        "pic_index+=8\n",
        "\n",
        "next_angry_pix = [os.path.join(train_angry_dir, fname) \n",
        "                for fname in train_angry_fnames[ pic_index-8:pic_index] \n",
        "               ]\n",
        "\n",
        "next_disgust_pix = [os.path.join(train_disgust_dir, fname) \n",
        "                for fname in train_disgust_fnames[ pic_index-8:pic_index]\n",
        "               ]\n",
        "\n",
        "next_fear_pix = [os.path.join(train_fear_dir, fname) \n",
        "                for fname in train_fear_fnames[ pic_index-8:pic_index]\n",
        "               ]\n",
        "\n",
        "next_happy_pix = [os.path.join(train_happy_dir, fname) \n",
        "                for fname in train_happy_fnames[ pic_index-8:pic_index]\n",
        "               ]\n",
        "              \n",
        "next_neutral_pix = [os.path.join(train_neutral_dir, fname) \n",
        "                for fname in train_neutral_fnames[ pic_index-8:pic_index]\n",
        "               ]\n",
        "\n",
        "next_sad_pix = [os.path.join(train_sad_dir, fname) \n",
        "                for fname in train_sad_fnames[ pic_index-8:pic_index]\n",
        "               ]\n",
        "\n",
        "next_surprise_pix = [os.path.join(train_surprise_dir, fname) \n",
        "                for fname in train_surprise_fnames[ pic_index-8:pic_index]\n",
        "               ]\n",
        "\n",
        "for i, img_path in enumerate(next_angry_pix + next_disgust_pix + next_fear_pix + next_happy_pix + next_neutral_pix + next_sad_pix + next_surprise_pix):\n",
        "  \n",
        "  sp = plt.subplot(nrows, ncols, i + 1)\n",
        "  sp.axis('Off')\n",
        "\n",
        "  img = mpimg.imread(img_path)\n",
        "  plt.imshow(img)\n",
        "\n",
        "plt.show()\n"
      ],
      "metadata": {
        "id": "b7wcoK2LqLeZ"
      },
      "execution_count": null,
      "outputs": []
    },
    {
      "cell_type": "code",
      "source": [
        "import tensorflow as tf\n",
        "from keras.regularizers import l2\n",
        "\n",
        "model = tf.keras.models.Sequential([\n",
        "                                    \n",
        "    tf.keras.layers.Conv2D(32,(3,3), padding='same', input_shape=(48, 48, 1)),\n",
        "    tf.keras.layers.BatchNormalization(),\n",
        "    tf.keras.layers.MaxPooling2D(pool_size=(2, 2)),\n",
        "    #tf.keras.layers.Dropout(0.25),\n",
        "\n",
        "    tf.keras.layers.Conv2D(64, (3, 3), activation=\"relu\"),\n",
        "    tf.keras.layers.BatchNormalization(),\n",
        "    tf.keras.layers.MaxPooling2D(pool_size=(2, 2)),\n",
        "    #tf.keras.layers.Dropout(0.25),\n",
        "\n",
        "    tf.keras.layers.Conv2D(128, (3, 3), activation=\"relu\"),\n",
        "    tf.keras.layers.BatchNormalization(),\n",
        "    tf.keras.layers.MaxPooling2D(pool_size=(2, 2)),\n",
        "    #tf.keras.layers.Dropout(0.25),\n",
        "\n",
        "    tf.keras.layers.Flatten(),\n",
        "\n",
        "    tf.keras.layers.Dense(512),\n",
        "    #tf.keras.layers.BatchNormalization(),\n",
        "    tf.keras.layers.Activation('relu'),\n",
        "    tf.keras.layers.Dropout(0.5),\n",
        "\n",
        "    tf.keras.layers.Dense(512),\n",
        "    #tf.keras.layers.BatchNormalization(),\n",
        "    tf.keras.layers.Activation('relu'),\n",
        "    tf.keras.layers.Dropout(0.5),\n",
        "\n",
        "    tf.keras.layers.Dense(7, activation=\"softmax\")\n",
        "])\n"
      ],
      "metadata": {
        "id": "SkbZiZuB7GME"
      },
      "execution_count": null,
      "outputs": []
    },
    {
      "cell_type": "code",
      "source": [
        "model.summary()"
      ],
      "metadata": {
        "id": "DdH2tJ7O7NB0",
        "outputId": "cb86dee8-2dd5-41e4-e7db-3548b9cbfc9c",
        "colab": {
          "base_uri": "https://localhost:8080/"
        }
      },
      "execution_count": null,
      "outputs": [
        {
          "output_type": "stream",
          "name": "stdout",
          "text": [
            "Model: \"sequential\"\n",
            "_________________________________________________________________\n",
            " Layer (type)                Output Shape              Param #   \n",
            "=================================================================\n",
            " conv2d (Conv2D)             (None, 48, 48, 32)        320       \n",
            "                                                                 \n",
            " batch_normalization (BatchN  (None, 48, 48, 32)       128       \n",
            " ormalization)                                                   \n",
            "                                                                 \n",
            " max_pooling2d (MaxPooling2D  (None, 24, 24, 32)       0         \n",
            " )                                                               \n",
            "                                                                 \n",
            " conv2d_1 (Conv2D)           (None, 22, 22, 64)        18496     \n",
            "                                                                 \n",
            " batch_normalization_1 (Batc  (None, 22, 22, 64)       256       \n",
            " hNormalization)                                                 \n",
            "                                                                 \n",
            " max_pooling2d_1 (MaxPooling  (None, 11, 11, 64)       0         \n",
            " 2D)                                                             \n",
            "                                                                 \n",
            " conv2d_2 (Conv2D)           (None, 9, 9, 128)         73856     \n",
            "                                                                 \n",
            " batch_normalization_2 (Batc  (None, 9, 9, 128)        512       \n",
            " hNormalization)                                                 \n",
            "                                                                 \n",
            " max_pooling2d_2 (MaxPooling  (None, 4, 4, 128)        0         \n",
            " 2D)                                                             \n",
            "                                                                 \n",
            " flatten (Flatten)           (None, 2048)              0         \n",
            "                                                                 \n",
            " dense (Dense)               (None, 512)               1049088   \n",
            "                                                                 \n",
            " activation (Activation)     (None, 512)               0         \n",
            "                                                                 \n",
            " dropout (Dropout)           (None, 512)               0         \n",
            "                                                                 \n",
            " dense_1 (Dense)             (None, 512)               262656    \n",
            "                                                                 \n",
            " activation_1 (Activation)   (None, 512)               0         \n",
            "                                                                 \n",
            " dropout_1 (Dropout)         (None, 512)               0         \n",
            "                                                                 \n",
            " dense_2 (Dense)             (None, 7)                 3591      \n",
            "                                                                 \n",
            "=================================================================\n",
            "Total params: 1,408,903\n",
            "Trainable params: 1,408,455\n",
            "Non-trainable params: 448\n",
            "_________________________________________________________________\n"
          ]
        }
      ]
    },
    {
      "cell_type": "code",
      "source": [
        "from tensorflow.keras.optimizers import RMSprop\n",
        "\n",
        "optAdam = tf.keras.optimizers.Adam(\n",
        "    learning_rate=0.0005,\n",
        "    beta_1=0.9,\n",
        "    beta_2=0.999,\n",
        "    name=\"Adam\"\n",
        ")\n",
        "\n",
        "optNadam = tf.keras.optimizers.Nadam(\n",
        "      learning_rate=0.001,\n",
        "      beta_1=0.9,\n",
        "      beta_2=0.999,\n",
        "      epsilon=1e-07,\n",
        "      name='Nadam')\n",
        "\n",
        "optSGD = tf.keras.optimizers.SGD(\n",
        "    learning_rate=0.0001,\n",
        "    momentum=0.0,\n",
        "    nesterov=True,\n",
        "    name='SGD'\n",
        ")\n",
        "loss = tf.keras.losses.SparseCategoricalCrossentropy(from_logits=True)\n",
        "\n",
        "lossCategorical = tf.keras.losses.CategoricalCrossentropy(\n",
        "    from_logits=False,\n",
        "    label_smoothing=0.0,\n",
        "    axis=-1,\n",
        "    reduction=\"auto\",\n",
        "    name=\"categorical_crossentropy\",\n",
        ")\n",
        "\n",
        "model.compile(loss=lossCategorical,\n",
        "              optimizer=optAdam,\n",
        "              metrics = ['accuracy'])"
      ],
      "metadata": {
        "id": "nR7yXp5b7c5G"
      },
      "execution_count": null,
      "outputs": []
    },
    {
      "cell_type": "code",
      "source": [
        "from tensorflow.keras.preprocessing.image import ImageDataGenerator\n",
        "\n",
        "train_datagen = ImageDataGenerator( rescale = 1.0/255., horizontal_flip = True, rotation_range = 15, brightness_range=[0.4,1.5], zoom_range=0.15)\n",
        "\n",
        "validation_datagen  = ImageDataGenerator( rescale = 1.0/255. )\n",
        "\n",
        "train_generator = train_datagen.flow_from_directory(\n",
        " train_sub_dir, #direktorij u kojem se nalaze slike\n",
        " target_size=(48, 48), #Svaka slika ce biti skalirana na tu dimenziju\n",
        " batch_size=32, #broj slika koji se generira po seriji\n",
        " color_mode=\"grayscale\", #ako su nam slike crno bijele\n",
        " class_mode=\"categorical\", #vise klasa, da imamo samo dvije onda binary\n",
        " shuffle=True)\n",
        "\n",
        "validator_generator =  validation_datagen.flow_from_directory(\n",
        "    test_sub_dir,\n",
        "    target_size=(48, 48),\n",
        "    batch_size=32,\n",
        "    color_mode=\"grayscale\",\n",
        "    class_mode=\"categorical\",\n",
        "    shuffle=True)\n"
      ],
      "metadata": {
        "colab": {
          "base_uri": "https://localhost:8080/"
        },
        "id": "1L_qekC97h3y",
        "outputId": "fc76e45c-9a21-41f7-e3b2-45a39ea97baf"
      },
      "execution_count": null,
      "outputs": [
        {
          "output_type": "stream",
          "name": "stdout",
          "text": [
            "Found 28709 images belonging to 7 classes.\n",
            "Found 7178 images belonging to 7 classes.\n"
          ]
        }
      ]
    },
    {
      "cell_type": "code",
      "source": [
        "from tensorflow.keras.callbacks import  EarlyStopping, ReduceLROnPlateau\n",
        "\n",
        "                 \n",
        "early_stopping = EarlyStopping(\n",
        "    monitor='val_accuracy', #vrijednost koja ce biti pracena\n",
        "    min_delta=0.00005, # Minimalna promjena praćene količine da bi se kvalificirala kao poboljšanje\n",
        "    patience=12, #broj epoha bez poboljšanja nakon kojih će se stopa učenja smanjiti.\n",
        "    verbose=1, #azuriranje poruka \n",
        "    restore_best_weights=True) #najbolja vrijednost\n",
        "\n",
        "lr_scheduler = ReduceLROnPlateau(\n",
        "    monitor='val_accuracy', #vrijednost koja ce biti pracena\n",
        "    factor=0.5, #faktor za koji će se smanjiti stopa učenja. novi_lr = lr * faktor\n",
        "    patience=7, #broj epoha bez poboljšanja nakon kojih će se stopa učenja smanjiti.\n",
        "    min_lr=1e-7, #donja granica stope učenja.\n",
        "    verbose=1, #azuriranje poruka\n",
        ")  \n",
        "\n",
        "callback_funtions =  [\n",
        "            early_stopping,\n",
        "            lr_scheduler]"
      ],
      "metadata": {
        "id": "wa1Nin2-bDON"
      },
      "execution_count": null,
      "outputs": []
    },
    {
      "cell_type": "code",
      "source": [
        "#validation_steps - Ukupan broj koraka (serija uzoraka) za crtanje prije zaustavljanja prilikom provođenja provjere valjanosti na kraju svake epohe\n",
        "#steps_per_epoch - Ukupan broj koraka (serija uzoraka) prije proglašenja jedne epohe završenom i početka sljedeće epohe.\n",
        "\n",
        "epochs = 50\n",
        "history = model.fit(train_generator, validation_data=validator_generator, validation_steps=7178 // 32, steps_per_epoch=28709 // 32, epochs=epochs, callbacks=callback_funtions)"
      ],
      "metadata": {
        "id": "5MFqMbAb8IK1",
        "colab": {
          "base_uri": "https://localhost:8080/"
        },
        "outputId": "518f7471-8bbd-44c2-9c0b-4c535cfc79e1"
      },
      "execution_count": null,
      "outputs": [
        {
          "output_type": "stream",
          "name": "stdout",
          "text": [
            "Epoch 1/50\n",
            "897/897 [==============================] - 38s 30ms/step - loss: 1.8969 - accuracy: 0.2571 - val_loss: 1.6374 - val_accuracy: 0.3594 - lr: 5.0000e-04\n",
            "Epoch 2/50\n",
            "897/897 [==============================] - 27s 30ms/step - loss: 1.6787 - accuracy: 0.3310 - val_loss: 1.5308 - val_accuracy: 0.4093 - lr: 5.0000e-04\n",
            "Epoch 3/50\n",
            "897/897 [==============================] - 26s 29ms/step - loss: 1.5902 - accuracy: 0.3749 - val_loss: 1.4687 - val_accuracy: 0.4524 - lr: 5.0000e-04\n",
            "Epoch 4/50\n",
            "897/897 [==============================] - 26s 29ms/step - loss: 1.5197 - accuracy: 0.4081 - val_loss: 1.4352 - val_accuracy: 0.4640 - lr: 5.0000e-04\n",
            "Epoch 5/50\n",
            "897/897 [==============================] - 26s 29ms/step - loss: 1.4578 - accuracy: 0.4367 - val_loss: 1.3956 - val_accuracy: 0.4794 - lr: 5.0000e-04\n",
            "Epoch 6/50\n",
            "897/897 [==============================] - 26s 29ms/step - loss: 1.4144 - accuracy: 0.4592 - val_loss: 1.3523 - val_accuracy: 0.5028 - lr: 5.0000e-04\n",
            "Epoch 7/50\n",
            "897/897 [==============================] - 27s 30ms/step - loss: 1.3809 - accuracy: 0.4741 - val_loss: 1.3367 - val_accuracy: 0.4960 - lr: 5.0000e-04\n",
            "Epoch 8/50\n",
            "897/897 [==============================] - 26s 29ms/step - loss: 1.3483 - accuracy: 0.4895 - val_loss: 1.2817 - val_accuracy: 0.5259 - lr: 5.0000e-04\n",
            "Epoch 9/50\n",
            "897/897 [==============================] - 28s 31ms/step - loss: 1.3175 - accuracy: 0.4989 - val_loss: 1.3226 - val_accuracy: 0.5131 - lr: 5.0000e-04\n",
            "Epoch 10/50\n",
            "897/897 [==============================] - 26s 29ms/step - loss: 1.2953 - accuracy: 0.5075 - val_loss: 1.2421 - val_accuracy: 0.5339 - lr: 5.0000e-04\n",
            "Epoch 11/50\n",
            "897/897 [==============================] - 26s 29ms/step - loss: 1.2737 - accuracy: 0.5152 - val_loss: 1.2034 - val_accuracy: 0.5545 - lr: 5.0000e-04\n",
            "Epoch 12/50\n",
            "897/897 [==============================] - 26s 29ms/step - loss: 1.2571 - accuracy: 0.5249 - val_loss: 1.2022 - val_accuracy: 0.5600 - lr: 5.0000e-04\n",
            "Epoch 13/50\n",
            "897/897 [==============================] - 26s 29ms/step - loss: 1.2439 - accuracy: 0.5318 - val_loss: 1.1696 - val_accuracy: 0.5612 - lr: 5.0000e-04\n",
            "Epoch 14/50\n",
            "897/897 [==============================] - 26s 29ms/step - loss: 1.2225 - accuracy: 0.5408 - val_loss: 1.1443 - val_accuracy: 0.5780 - lr: 5.0000e-04\n",
            "Epoch 15/50\n",
            "897/897 [==============================] - 27s 30ms/step - loss: 1.2168 - accuracy: 0.5406 - val_loss: 1.1847 - val_accuracy: 0.5565 - lr: 5.0000e-04\n",
            "Epoch 16/50\n",
            "897/897 [==============================] - 26s 29ms/step - loss: 1.2011 - accuracy: 0.5509 - val_loss: 1.1577 - val_accuracy: 0.5702 - lr: 5.0000e-04\n",
            "Epoch 17/50\n",
            "897/897 [==============================] - 27s 30ms/step - loss: 1.1869 - accuracy: 0.5507 - val_loss: 1.1390 - val_accuracy: 0.5755 - lr: 5.0000e-04\n",
            "Epoch 18/50\n",
            "897/897 [==============================] - 26s 29ms/step - loss: 1.1752 - accuracy: 0.5593 - val_loss: 1.1697 - val_accuracy: 0.5561 - lr: 5.0000e-04\n",
            "Epoch 19/50\n",
            "897/897 [==============================] - 26s 29ms/step - loss: 1.1639 - accuracy: 0.5624 - val_loss: 1.1257 - val_accuracy: 0.5855 - lr: 5.0000e-04\n",
            "Epoch 20/50\n",
            "897/897 [==============================] - 27s 30ms/step - loss: 1.1517 - accuracy: 0.5673 - val_loss: 1.1063 - val_accuracy: 0.5872 - lr: 5.0000e-04\n",
            "Epoch 21/50\n",
            "897/897 [==============================] - 26s 29ms/step - loss: 1.1467 - accuracy: 0.5687 - val_loss: 1.1799 - val_accuracy: 0.5545 - lr: 5.0000e-04\n",
            "Epoch 22/50\n",
            "897/897 [==============================] - 26s 29ms/step - loss: 1.1357 - accuracy: 0.5752 - val_loss: 1.1378 - val_accuracy: 0.5812 - lr: 5.0000e-04\n",
            "Epoch 23/50\n",
            "897/897 [==============================] - 27s 30ms/step - loss: 1.1198 - accuracy: 0.5775 - val_loss: 1.0926 - val_accuracy: 0.5970 - lr: 5.0000e-04\n",
            "Epoch 24/50\n",
            "897/897 [==============================] - 28s 31ms/step - loss: 1.1163 - accuracy: 0.5828 - val_loss: 1.0665 - val_accuracy: 0.6063 - lr: 5.0000e-04\n",
            "Epoch 25/50\n",
            "897/897 [==============================] - 26s 29ms/step - loss: 1.1039 - accuracy: 0.5879 - val_loss: 1.1067 - val_accuracy: 0.5875 - lr: 5.0000e-04\n",
            "Epoch 26/50\n",
            "897/897 [==============================] - 27s 30ms/step - loss: 1.0933 - accuracy: 0.5920 - val_loss: 1.0793 - val_accuracy: 0.6021 - lr: 5.0000e-04\n",
            "Epoch 27/50\n",
            "897/897 [==============================] - 26s 30ms/step - loss: 1.0857 - accuracy: 0.5962 - val_loss: 1.0722 - val_accuracy: 0.6030 - lr: 5.0000e-04\n",
            "Epoch 28/50\n",
            "897/897 [==============================] - 26s 29ms/step - loss: 1.0749 - accuracy: 0.5944 - val_loss: 1.0720 - val_accuracy: 0.6053 - lr: 5.0000e-04\n",
            "Epoch 29/50\n",
            "897/897 [==============================] - 26s 29ms/step - loss: 1.0776 - accuracy: 0.5943 - val_loss: 1.0508 - val_accuracy: 0.6097 - lr: 5.0000e-04\n",
            "Epoch 30/50\n",
            "897/897 [==============================] - 26s 29ms/step - loss: 1.0566 - accuracy: 0.6034 - val_loss: 1.0474 - val_accuracy: 0.6102 - lr: 5.0000e-04\n",
            "Epoch 31/50\n",
            "897/897 [==============================] - 26s 29ms/step - loss: 1.0529 - accuracy: 0.6063 - val_loss: 1.0692 - val_accuracy: 0.6004 - lr: 5.0000e-04\n",
            "Epoch 32/50\n",
            "897/897 [==============================] - 26s 30ms/step - loss: 1.0430 - accuracy: 0.6074 - val_loss: 1.0695 - val_accuracy: 0.6007 - lr: 5.0000e-04\n",
            "Epoch 33/50\n",
            "897/897 [==============================] - 27s 30ms/step - loss: 1.0409 - accuracy: 0.6105 - val_loss: 1.1012 - val_accuracy: 0.5915 - lr: 5.0000e-04\n",
            "Epoch 34/50\n",
            "897/897 [==============================] - 27s 30ms/step - loss: 1.0260 - accuracy: 0.6157 - val_loss: 1.0317 - val_accuracy: 0.6148 - lr: 5.0000e-04\n",
            "Epoch 35/50\n",
            "897/897 [==============================] - 27s 30ms/step - loss: 1.0202 - accuracy: 0.6195 - val_loss: 1.1170 - val_accuracy: 0.5886 - lr: 5.0000e-04\n",
            "Epoch 36/50\n",
            "897/897 [==============================] - 26s 29ms/step - loss: 1.0137 - accuracy: 0.6199 - val_loss: 1.0337 - val_accuracy: 0.6225 - lr: 5.0000e-04\n",
            "Epoch 37/50\n",
            "897/897 [==============================] - 27s 30ms/step - loss: 1.0052 - accuracy: 0.6243 - val_loss: 1.0749 - val_accuracy: 0.6035 - lr: 5.0000e-04\n",
            "Epoch 38/50\n",
            "897/897 [==============================] - 26s 29ms/step - loss: 0.9954 - accuracy: 0.6298 - val_loss: 1.0496 - val_accuracy: 0.6102 - lr: 5.0000e-04\n",
            "Epoch 39/50\n",
            "897/897 [==============================] - 26s 29ms/step - loss: 0.9926 - accuracy: 0.6321 - val_loss: 1.0391 - val_accuracy: 0.6162 - lr: 5.0000e-04\n",
            "Epoch 40/50\n",
            "897/897 [==============================] - 26s 29ms/step - loss: 0.9885 - accuracy: 0.6266 - val_loss: 1.0444 - val_accuracy: 0.6151 - lr: 5.0000e-04\n",
            "Epoch 41/50\n",
            "897/897 [==============================] - 26s 29ms/step - loss: 0.9728 - accuracy: 0.6364 - val_loss: 1.0241 - val_accuracy: 0.6215 - lr: 5.0000e-04\n",
            "Epoch 42/50\n",
            "897/897 [==============================] - 27s 30ms/step - loss: 0.9739 - accuracy: 0.6379 - val_loss: 1.0443 - val_accuracy: 0.6162 - lr: 5.0000e-04\n",
            "Epoch 43/50\n",
            "896/897 [============================>.] - ETA: 0s - loss: 0.9619 - accuracy: 0.6425\n",
            "Epoch 43: ReduceLROnPlateau reducing learning rate to 0.0002500000118743628.\n",
            "897/897 [==============================] - 27s 30ms/step - loss: 0.9619 - accuracy: 0.6425 - val_loss: 1.0703 - val_accuracy: 0.6081 - lr: 5.0000e-04\n",
            "Epoch 44/50\n",
            "897/897 [==============================] - 26s 29ms/step - loss: 0.9252 - accuracy: 0.6546 - val_loss: 1.0015 - val_accuracy: 0.6346 - lr: 2.5000e-04\n",
            "Epoch 45/50\n",
            "897/897 [==============================] - 26s 29ms/step - loss: 0.9104 - accuracy: 0.6593 - val_loss: 1.0200 - val_accuracy: 0.6279 - lr: 2.5000e-04\n",
            "Epoch 46/50\n",
            "897/897 [==============================] - 26s 29ms/step - loss: 0.9009 - accuracy: 0.6633 - val_loss: 1.0075 - val_accuracy: 0.6363 - lr: 2.5000e-04\n",
            "Epoch 47/50\n",
            "897/897 [==============================] - 27s 30ms/step - loss: 0.8965 - accuracy: 0.6692 - val_loss: 1.0317 - val_accuracy: 0.6267 - lr: 2.5000e-04\n",
            "Epoch 48/50\n",
            "897/897 [==============================] - 27s 30ms/step - loss: 0.8922 - accuracy: 0.6709 - val_loss: 1.0150 - val_accuracy: 0.6297 - lr: 2.5000e-04\n",
            "Epoch 49/50\n",
            "897/897 [==============================] - 26s 29ms/step - loss: 0.8824 - accuracy: 0.6720 - val_loss: 1.0180 - val_accuracy: 0.6352 - lr: 2.5000e-04\n",
            "Epoch 50/50\n",
            "897/897 [==============================] - 26s 29ms/step - loss: 0.8743 - accuracy: 0.6739 - val_loss: 1.0271 - val_accuracy: 0.6297 - lr: 2.5000e-04\n"
          ]
        }
      ]
    },
    {
      "cell_type": "code",
      "source": [
        "model_json = model.to_json()\n",
        "with open(\"model.json\", \"w\") as json_file:\n",
        "  json_file.write(model_json)\n",
        "\n",
        "model.save_weights('emotion_model.h5')"
      ],
      "metadata": {
        "id": "xoshEzmarqI2"
      },
      "execution_count": null,
      "outputs": []
    },
    {
      "cell_type": "code",
      "source": [
        "from google.colab import drive\n",
        "drive.mount('/content/gdrive')"
      ],
      "metadata": {
        "colab": {
          "base_uri": "https://localhost:8080/"
        },
        "id": "cfXGsNCZwBt2",
        "outputId": "f86cd4e1-2d18-457b-c1a1-dc3381160027"
      },
      "execution_count": null,
      "outputs": [
        {
          "output_type": "stream",
          "name": "stdout",
          "text": [
            "Mounted at /content/gdrive\n"
          ]
        }
      ]
    },
    {
      "cell_type": "code",
      "source": [
        "#save trainng history\n",
        "import json\n",
        "with open('file.json', 'w') as f:\n",
        "    json.dump(history.history, f)"
      ],
      "metadata": {
        "id": "8wZIgIZ6wHeN"
      },
      "execution_count": null,
      "outputs": []
    },
    {
      "cell_type": "code",
      "source": [
        "import seaborn as sns\n",
        "from matplotlib import pyplot\n",
        "sns.set()\n",
        "fig = pyplot.figure(0, (12, 4))\n",
        "\n",
        "ax = pyplot.subplot(1, 2, 1)\n",
        "sns.lineplot(history.epoch, history.history['accuracy'], label='train')\n",
        "sns.lineplot(history.epoch, history.history['val_accuracy'], label='valid')\n",
        "pyplot.title('Accuracy')\n",
        "pyplot.tight_layout()\n",
        "\n",
        "ax = pyplot.subplot(1, 2, 2)\n",
        "sns.lineplot(history.epoch, history.history['loss'], label='train')\n",
        "sns.lineplot(history.epoch, history.history['val_loss'], label='valid')\n",
        "pyplot.title('Loss')\n",
        "pyplot.tight_layout()\n",
        "\n",
        "pyplot.savefig('epoch_history_dcnn.png')\n",
        "pyplot.show()"
      ],
      "metadata": {
        "id": "MVTU6I_WDhn0",
        "colab": {
          "base_uri": "https://localhost:8080/",
          "height": 452
        },
        "outputId": "9c1a76bb-a882-476e-bc2e-6e35778e60b3"
      },
      "execution_count": null,
      "outputs": [
        {
          "output_type": "stream",
          "name": "stderr",
          "text": [
            "/usr/local/lib/python3.7/dist-packages/seaborn/_decorators.py:43: FutureWarning: Pass the following variables as keyword args: x, y. From version 0.12, the only valid positional argument will be `data`, and passing other arguments without an explicit keyword will result in an error or misinterpretation.\n",
            "  FutureWarning\n",
            "/usr/local/lib/python3.7/dist-packages/seaborn/_decorators.py:43: FutureWarning: Pass the following variables as keyword args: x, y. From version 0.12, the only valid positional argument will be `data`, and passing other arguments without an explicit keyword will result in an error or misinterpretation.\n",
            "  FutureWarning\n",
            "/usr/local/lib/python3.7/dist-packages/seaborn/_decorators.py:43: FutureWarning: Pass the following variables as keyword args: x, y. From version 0.12, the only valid positional argument will be `data`, and passing other arguments without an explicit keyword will result in an error or misinterpretation.\n",
            "  FutureWarning\n",
            "/usr/local/lib/python3.7/dist-packages/seaborn/_decorators.py:43: FutureWarning: Pass the following variables as keyword args: x, y. From version 0.12, the only valid positional argument will be `data`, and passing other arguments without an explicit keyword will result in an error or misinterpretation.\n",
            "  FutureWarning\n"
          ]
        },
        {
          "output_type": "display_data",
          "data": {
            "text/plain": [
              "<Figure size 864x288 with 2 Axes>"
            ],
            "image/png": "[encoded data removed]"
          },
          "metadata": {}
        }
      ]
    },
    {
      "cell_type": "code",
      "source": [
        "tx_emotion = {0:\"angry\", 1:\"disgust\", 2:\"fear\", 3:\"happy\", 4:\"neutral\", 5:\"sad\", 6:\"surprise\"}"
      ],
      "metadata": {
        "id": "p1D5NjR2uC6i"
      },
      "execution_count": null,
      "outputs": []
    },
    {
      "cell_type": "code",
      "source": [
        "from keras.models import model_from_json\n",
        "\n",
        "#json_file = open(\"/content/model.json\", \"r\")\n",
        "json_file = open(\"/Users/tomis/Desktop/NMIDU/model.json\")\n",
        "loaded_model_json = json_file.read()\n",
        "json_file.close()\n",
        "\n",
        "emotion_model = model_from_json(loaded_model_json)"
      ],
      "metadata": {
        "id": "5ykKsR6hKtXT"
      },
      "execution_count": null,
      "outputs": []
    },
    {
      "cell_type": "code",
      "source": [
        "#emotion_model.load_weights(\"/content/emotion_model.h5\")\n",
        "emotion_model.load_weights(\"/Users/tomis/Desktop/NMIDU/emotion_model.h5\")\n",
        "print(\"Loaded model from disk\")"
      ],
      "metadata": {
        "colab": {
          "base_uri": "https://localhost:8080/"
        },
        "id": "8bSSw1QKzU2q",
        "outputId": "83193857-48c8-45fd-8e73-8827deb94f85"
      },
      "execution_count": null,
      "outputs": [
        {
          "output_type": "stream",
          "name": "stdout",
          "text": [
            "Loaded model from disk\n"
          ]
        }
      ]
    },
    {
      "cell_type": "code",
      "source": [
        "from matplotlib import pyplot as plt\n",
        "def emotion_analysis(emotions):\n",
        "  objects = ('angry', 'disgust', 'fear', 'happy', 'neutral', 'sad', 'surprise')\n",
        "  y_pos = np.arange(len(objects))\n",
        " \n",
        "  plt.bar(y_pos, emotions, align='center', alpha=0.5)\n",
        "  plt.xticks(y_pos, objects)\n",
        "  plt.ylabel('percentage')\n",
        "  plt.title('emotion')\n",
        " \n",
        "  plt.show()"
      ],
      "metadata": {
        "id": "hkf2VlIhneyQ"
      },
      "execution_count": null,
      "outputs": []
    },
    {
      "cell_type": "code",
      "source": [
        "\n",
        "import numpy as np\n",
        "from google.colab import files\n",
        "from keras.preprocessing import image\n",
        "import numpy as np\n",
        "from PIL import Image\n",
        "from keras.preprocessing import image\n",
        "\n",
        "uploaded = files.upload()\n",
        "\n",
        "for fn in uploaded.keys():\n",
        "   path = '/content/' + fn\n",
        "   img = image.load_img(path, color_mode = \"grayscale\", target_size=(48,48))\n",
        "   x = image.img_to_array(img)\n",
        "   x = np.expand_dims(x, axis=0)\n",
        "\n",
        "   x /= 255\n",
        "\n",
        "   custom = emotion_model.predict(x)\n",
        "   emotion_analysis(custom[0])\n",
        "\n",
        "   x = np.array(x, 'float32')\n",
        "   x = x.reshape([48, 48]);\n",
        "\n",
        "   plt.gray()\n",
        "   plt.imshow(x)\n",
        "   plt.show()"
      ],
      "metadata": {
        "colab": {
          "resources": {
            "http://localhost:8080/nbextensions/google.colab/files.js": {
              "data": "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",
              "ok": true,
              "headers": [
                [
                  "content-type",
                  "application/javascript"
                ]
              ],
              "status": 200,
              "status_text": ""
            }
          },
          "base_uri": "https://localhost:8080/",
          "height": 587
        },
        "id": "55vipdv1cI7I",
        "outputId": "74c9eb77-3b02-4032-eefe-7076710bd39c"
      },
      "execution_count": null,
      "outputs": [
        {
          "output_type": "display_data",
          "data": {
            "text/plain": [
              "<IPython.core.display.HTML object>"
            ],
            "text/html": [
              "\n",
              "     <input type=\"file\" id=\"files-b1c35e18-5ab3-48aa-93a3-acd52969fe59\" name=\"files[]\" multiple disabled\n",
              "        style=\"border:none\" />\n",
              "     <output id=\"result-b1c35e18-5ab3-48aa-93a3-acd52969fe59\">\n",
              "      Upload widget is only available when the cell has been executed in the\n",
              "      current browser session. Please rerun this cell to enable.\n",
              "      </output>\n",
              "      <script src=\"/nbextensions/google.colab/files.js\"></script> "
            ]
          },
          "metadata": {}
        },
        {
          "output_type": "stream",
          "name": "stdout",
          "text": [
            "Saving PublicTest_67735286.jpg to PublicTest_67735286.jpg\n"
          ]
        },
        {
          "output_type": "display_data",
          "data": {
            "text/plain": [
              "<Figure size 432x288 with 1 Axes>"
            ],
            "image/png": "[encoded data removed]"
          },
          "metadata": {
            "needs_background": "light"
          }
        },
        {
          "output_type": "display_data",
          "data": {
            "text/plain": [
              "<Figure size 432x288 with 1 Axes>"
            ],
            "image/png": "[encoded data removed]"
          },
          "metadata": {
            "needs_background": "light"
          }
        }
      ]
    },
    {
      "cell_type": "code",
      "source": [
        ""
      ],
      "metadata": {
        "id": "G-1GPSv9_0S8"
      },
      "execution_count": null,
      "outputs": []
    },
    {
      "cell_type": "markdown",
      "source": [
        "Kod preuzet sa: https://sefiks.com/2018/01/01/facial-expression-recognition-with-keras/"
      ],
      "metadata": {
        "id": "8bUc83lGpCDL"
      }
    },
    {
      "cell_type": "code",
      "source": [
        "import cv2\n",
        "import numpy as np\n",
        "\n",
        "cap = cv2.VideoCapture(0)\n",
        "while True:\n",
        "  ret, frame = cap.read()\n",
        "\n",
        "  try:\n",
        "    frame = cv2.resize(frame, (1280, 720))\n",
        "  except:\n",
        "    print(\"No image\")\n",
        "    break\n",
        "\n",
        "  if not ret:\n",
        "    break\n",
        "  face_detector = cv2.CascadeClassifier(cv2.data.haarcascades + \"haarcascade_frontalface_default.xml\")\n",
        "  gray_frame = cv2.cvtColor(frame, cv2.COLOR_BGR2GRAY)\n",
        "\n",
        "  #provjeri dal ima face dostupne na kameri\n",
        "  num_faces = face_detector.detectMultiScale(gray_frame, scaleFactor=1.3, minNeighbors=5)\n",
        "\n",
        "  for(x, y, w, h) in num_faces:\n",
        "    cv2.rectangle(frame, (x, y-50), (x+w, y+h), (0, 255, 0), 4)\n",
        "    roi_gray_frame = gray_frame[y:y + h, x:x + w]\n",
        "    cropped_img = np.expand_dims(np.expand_dims(cv2.resize(roi_gray_frame, (48, 48)), -1), 0)\n",
        "\n",
        "    #predvidi emociju\n",
        "    emotion_prediction = emotion_model.predict(cropped_img)\n",
        "    maxIndex = int(np.argmax(emotion_prediction))\n",
        "    cv2.putText(frame, tx_emotion[maxIndex], (x+5, y-20), cv2.FONT_HERSHEY_SIMPLEX, 1, (255, 0, 0), 2, cv2.LINE_AA)\n",
        "\n",
        "  cv2.imshow('Emotion Detection', frame)\n",
        "  if cv2.waitKey(1) & 0xFF == ord('q'):\n",
        "        break\n",
        "\n",
        "cap.release()\n",
        "cv2.destroyAllWindows()"
      ],
      "metadata": {
        "id": "rx3tcCGPzga-"
      },
      "execution_count": null,
      "outputs": []
    },
    {
      "cell_type": "markdown",
      "source": [
        "Kod preuzet i preformuliran sa: https://www.geeksforgeeks.org/face-detection-using-cascade-classifier-using-opencv-python/"
      ],
      "metadata": {
        "id": "HFms5JNtom5F"
      }
    }
  ]
}